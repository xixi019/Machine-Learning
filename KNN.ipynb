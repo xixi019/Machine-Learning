{
 "cells": [
  {
   "cell_type": "raw",
   "metadata": {
    "colab": {},
    "colab_type": "code",
    "id": "Q_wdMb5IT6X_"
   },
   "source": [
    "data_urls = [\"\"\"https://cl.lingfil.uu.se/~frewa417/english_past_tense.arff\"\"\", \"\"\"https://cl.lingfil.uu.se/~frewa417/german_plural.arff\"\"\"]\n",
    "\n",
    "filenames = [url.split(\"/\")[-1] for url in data_urls]\n",
    "\n",
    "import urllib.request\n",
    "for url, fn in zip(data_urls, filenames):\n",
    "  urllib.request.urlretrieve(url, fn)"
   ]
  },
  {
   "cell_type": "code",
   "execution_count": null,
   "metadata": {
    "colab": {},
    "colab_type": "code",
    "id": "w5QYHyObVZ6P"
   },
   "outputs": [],
   "source": [
    "from scipy.io.arff import loadarff\n",
    "loaded_data_files = [loadarff(fn) for fn in filenames]"
   ]
  },
  {
   "cell_type": "code",
   "execution_count": null,
   "metadata": {
    "colab": {},
    "colab_type": "code",
    "id": "PHQygK9YuRJ0"
   },
   "outputs": [],
   "source": [
    "import numpy as np\n",
    "\n",
    "D = dict()\n",
    "for data in loaded_data_files:\n",
    "  data_points = data[0]\n",
    "  field_names = data[1].names()\n",
    "  assert field_names[0] == 'frequency'\n",
    "  assert field_names[-1] == 'class'\n",
    "  X = list()\n",
    "  y = list()\n",
    "  for point in data_points:\n",
    "    v = [field_names[i]+\"_\"+point[i].decode(\"utf-8\") for i in range(1, len(point)-1)]\n",
    "    X.extend([v]*int(point[0]))\n",
    "    assert len(v) == len(X[0])\n",
    "    u = [point[-1].decode(\"utf-8\")]\n",
    "    y.extend([u]*int(point[0]))\n",
    "    assert len(u) == len(y[0])\n",
    "  assert len(X) == np.sum(np.asarray([point[0] for point in data_points]))\n",
    "  X_orig = np.asarray(X)\n",
    "  y_orig = np.asarray(y).ravel()\n",
    "  D[data[1].name] = tuple([X_orig, y_orig])"
   ]
  },
  {
   "cell_type": "code",
   "execution_count": null,
   "metadata": {
    "colab": {},
    "colab_type": "code",
    "id": "WPW4DVF0A4M3"
   },
   "outputs": [],
   "source": [
    "from sklearn.preprocessing import LabelEncoder\n",
    "label_encoder = LabelEncoder()\n",
    "y1 = label_encoder.fit_transform(D['plural'][1])\n",
    "from sklearn.preprocessing import LabelEncoder\n",
    "label_encoder = LabelEncoder()\n",
    "y2 = label_encoder.fit_transform(D['past-tense'][1])"
   ]
  },
  {
   "cell_type": "code",
   "execution_count": null,
   "metadata": {
    "colab": {},
    "colab_type": "code",
    "id": "qaFwJqdsAwPp"
   },
   "outputs": [],
   "source": [
    "from sklearn.preprocessing import OneHotEncoder\n",
    "feature_encoder = OneHotEncoder()\n",
    "X1 = feature_encoder.fit_transform(D['plural'][0])\n",
    "X1_names = feature_encoder.get_feature_names()\n",
    "from sklearn.preprocessing import OneHotEncoder\n",
    "feature_encoder = OneHotEncoder()\n",
    "X2 = feature_encoder.fit_transform(D['past-tense'][0])\n",
    "X2_names = feature_encoder.get_feature_names()"
   ]
  },
  {
   "cell_type": "code",
   "execution_count": null,
   "metadata": {
    "colab": {
     "base_uri": "https://localhost:8080/",
     "height": 53
    },
    "colab_type": "code",
    "executionInfo": {
     "elapsed": 34307,
     "status": "ok",
     "timestamp": 1581086879142,
     "user": {
      "displayName": "严曦",
      "photoUrl": "",
      "userId": "12554384450147838606"
     },
     "user_tz": -60
    },
    "id": "y9AtpjOGCnLb",
    "outputId": "bd4284f5-2038-4e70-c03a-01662296a2d2"
   },
   "outputs": [],
   "source": [
    "I1 = np.random.uniform(0, 1, size=X1.shape[0]) < .1\n",
    "X1 = X1[I1, :]\n",
    "y1 = y1[I1]\n",
    "print(\"X1:\", X1.shape, \", y1:\", y1.shape)\n",
    "I2 = np.random.uniform(0, 1, size=X2.shape[0]) < .1\n",
    "X2 = X2[I2, :]\n",
    "y2 = y2[I2]\n",
    "print(\"X2:\", X2.shape, \", y2:\", y2.shape)"
   ]
  },
  {
   "cell_type": "code",
   "execution_count": null,
   "metadata": {
    "colab": {
     "base_uri": "https://localhost:8080/",
     "height": 557
    },
    "colab_type": "code",
    "executionInfo": {
     "elapsed": 219812,
     "status": "ok",
     "timestamp": 1581087064662,
     "user": {
      "displayName": "严曦",
      "photoUrl": "",
      "userId": "12554384450147838606"
     },
     "user_tz": -60
    },
    "id": "AxmcBs3gJ4Ri",
    "outputId": "e232f3c9-b024-4d58-a3a9-1e4b7fdbbab5"
   },
   "outputs": [],
   "source": [
    "from sklearn.neighbors import KNeighborsClassifier\n",
    "from sklearn.metrics import classification_report\n",
    "\n",
    "knn = KNeighborsClassifier(n_neighbors=4)\n",
    "\n",
    "from sklearn.model_selection import train_test_split\n",
    "X1_train, X1_test, y1_train, y1_test = train_test_split(X1, y1, train_size=.7)\n",
    "\n",
    "knn.fit(X1_train, y1_train)\n",
    "y1_testp=knn.predict(X1_test)\n",
    "y1_trainp=knn.predict(X1_train)\n",
    "\n",
    "print(classification_report(y1_test, y1_testp, target_names=None))\n",
    "print(classification_report(y1_train, y1_trainp, target_names=None))"
   ]
  },
  {
   "cell_type": "code",
   "execution_count": null,
   "metadata": {
    "colab": {},
    "colab_type": "code",
    "id": "sBeL5Jgl5Piw"
   },
   "outputs": [],
   "source": [
    "X2_train, X2_test, y2_train, y2_test = train_test_split(X2, y2, train_size=.7)\n",
    "knn = KNeighborsClassifier(n_neighbors=4)\n",
    "\n",
    "knn.fit(X2_train, y2_train)\n",
    "y2_testp=knn.predict(X2_test)\n",
    "y2_trainp=knn.predict(X2_train)\n",
    "\n",
    "print(classification_report(y2_test, y2_testp, target_names=None))\n",
    "print(classification_report(y2_train, y2_trainp, target_names=None))"
   ]
  },
  {
   "cell_type": "code",
   "execution_count": null,
   "metadata": {
    "colab": {},
    "colab_type": "code",
    "id": "oTPXNI14uTAM"
   },
   "outputs": [],
   "source": [
    "from sklearn.model_selection import cross_validate\n",
    "import matplotlib.pyplot as plt\n",
    "from sklearn.model_selection import cross_val_score\n",
    "k_range=(1, 20)\n",
    "k_scores=[]\n",
    "for k in k_range:\n",
    "  knn = KNeighborsClassifier(n_neighbors=k)\n",
    "  scores = cross_val_score(knn, X1_train, y1_train, cv=5, scoring='accuracy')\n",
    "  k_scores.append(scores.mean())\n",
    "plt.plot(k_range, k_scores)\n",
    "plt.xlabel('Value of K for KNN')\n",
    "plt.ylabel('Cross-validates accuracy')\n",
    "plt.show()"
   ]
  },
  {
   "cell_type": "code",
   "execution_count": null,
   "metadata": {
    "colab": {},
    "colab_type": "code",
    "id": "h5jtHUwsf1wR"
   },
   "outputs": [],
   "source": [
    "k_range=(1, 20)\n",
    "k_scores=[]\n",
    "for k in k_range:\n",
    "  knn = KNeighborsClassifier(n_neighbors=k)\n",
    "  scores = cross_val_score(knn, X2_test, y2_test, cv=5, scoring='accuracy')\n",
    "  k_scores.append(scores.mean())\n",
    "plt.plot(k_range, k_scores)\n",
    "plt.xlabel('Value of K for KNN')\n",
    "plt.ylabel('Cross-validates accuracy')\n",
    "plt.show()"
   ]
  },
  {
   "cell_type": "code",
   "execution_count": null,
   "metadata": {
    "colab": {},
    "colab_type": "code",
    "id": "1q_yO4NYsSgb"
   },
   "outputs": [],
   "source": [
    "from sklearn.feature_selection import VarianceThreshold\n",
    "sel = VarianceThreshold(threshold=(.8)\n",
    "sel.fit_transform(X1)\n",
    "get_support(self, indices=False)"
   ]
  },
  {
   "cell_type": "code",
   "execution_count": null,
   "metadata": {
    "colab": {},
    "colab_type": "code",
    "id": "D675IF170_ey"
   },
   "outputs": [],
   "source": [
    "from sklearn.feature_selection import VarianceThreshold\n",
    "sel = VarianceThreshold(threshold=(.8)\n",
    "sel.fit_transform(X1)\n",
    "knn = KNeighborsClassifier(n_neighbors=4)\n",
    "scores = cross_val_score(knn, X1_train, y1_train, cv=5, scoring='accuracy')\n",
    "k_scores.append(scores.mean())\n",
    "plt.plot(k_range, k_scores)\n",
    "plt.xlabel('k=4')\n",
    "plt.ylabel('Cross-validates accuracy')\n",
    "plt.show()"
   ]
  },
  {
   "cell_type": "code",
   "execution_count": null,
   "metadata": {
    "colab": {},
    "colab_type": "code",
    "id": "p-vm6qhrDmcj"
   },
   "outputs": [],
   "source": [
    "import numpy as np\n",
    "\n",
    "D = dict()\n",
    "for data in loaded_data_files:\n",
    "  data_points = data[0]\n",
    "  field_names = data[1].names()\n",
    "  assert field_names[0] == 'frequency'\n",
    "  assert field_names[-1] == 'class'\n",
    "  X = list()\n",
    "  y = list()\n",
    "  for point in data_points:\n",
    "    v = [field_names[i]+\"_\"+point[i].decode(\"utf-8\") for i in range(1, len(point)-1)]\n",
    "    X.extend([v]*int(point[0]))\n",
    "    assert len(v) == len(X[0])\n",
    "    u = [point[-1].decode(\"utf-8\")]\n",
    "    y.extend([u]*int(point[0]))\n",
    "    assert len(u) == len(y[0])\n",
    "  assert len(X) == np.sum(np.asarray([point[0] for point in data_points]))\n",
    "  X_orig = np.asarray(X)\n",
    "  y_orig = np.asarray(y).ravel()\n",
    "  D[data[1].name] = tuple([X_orig, y_orig])\n",
    "\n",
    "X1 = np.delete(D['plural'][0], [1,2,3], axis=1)\n",
    "y1 = np.delete(D['plural'][1], [1,2,3], axis=1)\n",
    "\n"
   ]
  },
  {
   "cell_type": "code",
   "execution_count": null,
   "metadata": {
    "colab": {},
    "colab_type": "code",
    "id": "MZL9R8npIYZo"
   },
   "outputs": [],
   "source": [
    "from sklearn.preprocessing import LabelEncoder\n",
    "label_encoder = LabelEncoder()\n",
    "y1 = label_encoder.fit_transform(y1)\n",
    "from sklearn.preprocessing import OneHotEncoder\n",
    "feature_encoder = OneHotEncoder()\n",
    "X1 = feature_encoder.fit_transform(X1)\n",
    "X1_names = feature_encoder.get_feature_names()\n",
    "I1 = np.random.uniform(0, 1, size=X1.shape[0]) < .1\n",
    "X1 = X1[I1, :]\n",
    "y1 = y1[I1]\n",
    "print(\"X1:\", X1.shape, \", y1:\", y1.shape)"
   ]
  },
  {
   "cell_type": "code",
   "execution_count": null,
   "metadata": {
    "colab": {},
    "colab_type": "code",
    "id": "giu4-RC5KCmP"
   },
   "outputs": [],
   "source": [
    "from sklearn.neighbors import KNeighborsClassifier\n",
    "from sklearn.metrics import classification_report\n",
    "\n",
    "knn = KNeighborsClassifier(n_neighbors=4)\n",
    "\n",
    "from sklearn.model_selection import train_test_split\n",
    "X1_train, X1_test, y1_train, y1_test = train_test_split(X1, y1, train_size=.7)\n",
    "\n",
    "knn.fit(X1_train, y1_train)\n",
    "y1_testp=knn.predict(X1_test)\n",
    "y1_trainp=knn.predict(X1_train)\n",
    "\n",
    "print(classification_report(y1_test, y1_testp, target_names=None))\n",
    "print(classification_report(y1_train, y1_trainp, target_names=None))"
   ]
  },
  {
   "cell_type": "markdown",
   "metadata": {
    "colab_type": "text",
    "id": "YdrPyjBuSps1"
   },
   "source": []
  },
  {
   "cell_type": "code",
   "execution_count": null,
   "metadata": {
    "colab": {},
    "colab_type": "code",
    "id": "vZ1tcMe6AtFt"
   },
   "outputs": [],
   "source": []
  }
 ],
 "metadata": {
  "colab": {
   "collapsed_sections": [],
   "name": "ML_KNN.ipynb",
   "provenance": []
  },
  "kernelspec": {
   "display_name": "Python 3",
   "language": "python",
   "name": "python3"
  },
  "language_info": {
   "codemirror_mode": {
    "name": "ipython",
    "version": 3
   },
   "file_extension": ".py",
   "mimetype": "text/x-python",
   "name": "python",
   "nbconvert_exporter": "python",
   "pygments_lexer": "ipython3",
   "version": "3.7.3"
  }
 },
 "nbformat": 4,
 "nbformat_minor": 4
}